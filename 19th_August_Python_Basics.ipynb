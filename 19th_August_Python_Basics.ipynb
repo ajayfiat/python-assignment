{
  "nbformat": 4,
  "nbformat_minor": 0,
  "metadata": {
    "colab": {
      "provenance": []
    },
    "kernelspec": {
      "name": "python3",
      "display_name": "Python 3"
    },
    "language_info": {
      "name": "python"
    }
  },
  "cells": [
    {
      "cell_type": "markdown",
      "source": [
        "Variable Based Assignment"
      ],
      "metadata": {
        "id": "dds1eSyFw9AP"
      }
    },
    {
      "cell_type": "markdown",
      "source": [
        "# 1. Declare two variables, `x` and `y`, and assign them integer values. Swap the values of these variables without using any temporary variable."
      ],
      "metadata": {
        "id": "muWZZUBbpcFZ"
      }
    },
    {
      "cell_type": "code",
      "source": [
        "x,y=7,9      #declare the value of two variables x and y\n",
        "x=x+y\n",
        "y=x-y\n",
        "x=x-y"
      ],
      "metadata": {
        "id": "PSUD1guWBfVz"
      },
      "execution_count": null,
      "outputs": []
    },
    {
      "cell_type": "code",
      "source": [
        "x  #after swap"
      ],
      "metadata": {
        "colab": {
          "base_uri": "https://localhost:8080/"
        },
        "id": "QHHHA8-CCICT",
        "outputId": "741cf0bc-d4da-497b-901a-647288c57c7c"
      },
      "execution_count": null,
      "outputs": [
        {
          "output_type": "execute_result",
          "data": {
            "text/plain": [
              "9"
            ]
          },
          "metadata": {},
          "execution_count": 10
        }
      ]
    },
    {
      "cell_type": "code",
      "source": [
        "y  #after swap"
      ],
      "metadata": {
        "colab": {
          "base_uri": "https://localhost:8080/"
        },
        "id": "77eKXbvnCLTD",
        "outputId": "f2de0d0e-93ec-4592-e100-04a7329de1ab"
      },
      "execution_count": null,
      "outputs": [
        {
          "output_type": "execute_result",
          "data": {
            "text/plain": [
              "7"
            ]
          },
          "metadata": {},
          "execution_count": 11
        }
      ]
    },
    {
      "cell_type": "markdown",
      "source": [
        "# Create a program that calculates the area of a rectangle. Take the length and width as inputs from the user and store them in variables. Calculate and display the area."
      ],
      "metadata": {
        "id": "Mk2HMI_2ptqA"
      }
    },
    {
      "cell_type": "code",
      "source": [
        "a = float(input(\"Put the value of length  \"))\n",
        "b = float(input(\"Put the value of Width \"))\n",
        "c = print(\"area of the rectangle will be  \", a*b)"
      ],
      "metadata": {
        "colab": {
          "base_uri": "https://localhost:8080/"
        },
        "id": "SS6SaL6SRtY4",
        "outputId": "94abbc25-224c-4c06-ffb3-e4774831405b"
      },
      "execution_count": null,
      "outputs": [
        {
          "output_type": "stream",
          "name": "stdout",
          "text": [
            "Put the value of length  12\n",
            "Put the value of Width 25\n",
            "area of the rectangle will be   300.0\n"
          ]
        }
      ]
    },
    {
      "cell_type": "markdown",
      "source": [
        "# Write a Python program that converts temperatures from Celsius to Fahrenheit. Take the temperature in Celsius as input, store it in a variable, convert it to Fahrenheit, and display the result"
      ],
      "metadata": {
        "id": "yWA4fpnTp7NY"
      }
    },
    {
      "cell_type": "code",
      "source": [
        "x = float(input(\"Enter the value of temprature in celsius \"))\n",
        "y = print(\"Temprature in Fahrenheit\", (x*9/5)+32)   #using formula for conversion"
      ],
      "metadata": {
        "colab": {
          "base_uri": "https://localhost:8080/"
        },
        "id": "KtVBoG7VVOhh",
        "outputId": "bf7a55af-52b4-45a8-aefa-4e21199a1fe3"
      },
      "execution_count": null,
      "outputs": [
        {
          "output_type": "stream",
          "name": "stdout",
          "text": [
            "Enter the value of temprature in celsius 2567.8\n",
            "Temprature in Fahrenheit 4654.04\n"
          ]
        }
      ]
    },
    {
      "cell_type": "code",
      "source": [
        "#String Based Assignment"
      ],
      "metadata": {
        "id": "PvES7UiEw1z3"
      },
      "execution_count": null,
      "outputs": []
    },
    {
      "cell_type": "markdown",
      "source": [
        "# Write a Python program that takes a string as input and prints the length of List item the string."
      ],
      "metadata": {
        "id": "rm_JY4v7zd0X"
      }
    },
    {
      "cell_type": "code",
      "source": [
        "i = input(\"Enter the value of the string \")\n",
        "print(\"The Length of the string is\", len(i))"
      ],
      "metadata": {
        "colab": {
          "base_uri": "https://localhost:8080/"
        },
        "id": "XXWlUHXew7ZU",
        "outputId": "1d7f99d4-2290-4c5f-d112-106972ac982e"
      },
      "execution_count": null,
      "outputs": [
        {
          "output_type": "stream",
          "name": "stdout",
          "text": [
            "Enter the value of the string indian\n",
            "The Length of the string is 6\n"
          ]
        }
      ]
    },
    {
      "cell_type": "markdown",
      "source": [
        "# Create a program that takes a sentence from the user and counts the number of vowels (a, e, i, o, u) in the string."
      ],
      "metadata": {
        "id": "KEQkNC2WziKY"
      }
    },
    {
      "cell_type": "code",
      "source": [
        "s = input('write the sentence ')\n",
        "count_a = s.count(\"a\")             #use count function for counting of vowels\n",
        "print(\"count of a\", count_a)\n",
        "count_e = s.count(\"e\")\n",
        "print(\"count of e\", count_e)\n",
        "count_i = s. count(\"i\")\n",
        "print(\"count of i\", count_i)\n",
        "count_o = s. count(\"o\")\n",
        "print(\"count of o\", count_o)\n",
        "count_u = s.count(\"u\")\n",
        "print(\"count of u\", count_u)\n"
      ],
      "metadata": {
        "colab": {
          "base_uri": "https://localhost:8080/"
        },
        "id": "mDDy0Pe8js3I",
        "outputId": "164e85a3-d21f-4a09-bad7-1e2289bb810b"
      },
      "execution_count": 1,
      "outputs": [
        {
          "output_type": "stream",
          "name": "stdout",
          "text": [
            "write the sentence Who would know naught of art must learn, act, and then take his ease.\n",
            "count of a 7\n",
            "count of e 5\n",
            "count of i 1\n",
            "count of o 4\n",
            "count of u 3\n"
          ]
        }
      ]
    },
    {
      "cell_type": "markdown",
      "source": [
        "# Given a string, reverse the order of characters using string slicing and print the reversed string."
      ],
      "metadata": {
        "id": "r5mYnr3onv3v"
      }
    },
    {
      "cell_type": "code",
      "source": [
        "h = input(\"Enter the String \")\n",
        "print('the reverse string is', h[::-1])\n"
      ],
      "metadata": {
        "colab": {
          "base_uri": "https://localhost:8080/"
        },
        "id": "bQATiFE7oFyn",
        "outputId": "eedf0b7f-7831-4742-9f6f-c0bebc4fc715"
      },
      "execution_count": 6,
      "outputs": [
        {
          "output_type": "stream",
          "name": "stdout",
          "text": [
            "Enter the String Swarnkar\n",
            "the reverse string is raknrawS\n"
          ]
        }
      ]
    },
    {
      "cell_type": "markdown",
      "source": [
        "# Write a program that takes a string as input and checks if it is a palindrome(reads the same forwards and backwards)."
      ],
      "metadata": {
        "id": "43bokp5tqPcQ"
      }
    },
    {
      "cell_type": "code",
      "source": [
        "r = input('enter the value of string   ')\n",
        "r=r.lower()\n",
        "rev_string = r[::-1]   #string reverse\n",
        "print(rev_string)\n",
        "rev_string == r       #assign reverse string in r\n",
        "if r == rev_string:\n",
        "  print(\"palindrome\")\n",
        "else:\n",
        "  print(\"not palindrome\")\n"
      ],
      "metadata": {
        "colab": {
          "base_uri": "https://localhost:8080/"
        },
        "id": "wHGNiICZqPG6",
        "outputId": "37bc510a-edd6-4536-89b0-5afb251bb5f8"
      },
      "execution_count": 22,
      "outputs": [
        {
          "output_type": "stream",
          "name": "stdout",
          "text": [
            "enter the value of string   Madam\n",
            "madam\n",
            "palindrome\n"
          ]
        }
      ]
    },
    {
      "cell_type": "markdown",
      "source": [
        "# Create a program that takes a string as input and removes all the spaces from it. Print the modified string without spaces."
      ],
      "metadata": {
        "id": "UJlF8xdmzXRJ"
      }
    },
    {
      "cell_type": "code",
      "source": [
        "g = input('enter the string ')\n",
        "re_g = g.replace(\" \", \"\")     #using replace function for remove space\n",
        "print(\"New Srting without space\", re_g)\n"
      ],
      "metadata": {
        "colab": {
          "base_uri": "https://localhost:8080/"
        },
        "id": "cBGT-I9n0AHC",
        "outputId": "ebf91e0b-a6d3-49ed-eecd-37a12cbf6aa9"
      },
      "execution_count": 27,
      "outputs": [
        {
          "output_type": "stream",
          "name": "stdout",
          "text": [
            "enter the string     Hello!  Sudhansu   \n",
            "New Srting without space Hello!Sudhansu\n"
          ]
        }
      ]
    }
  ]
}